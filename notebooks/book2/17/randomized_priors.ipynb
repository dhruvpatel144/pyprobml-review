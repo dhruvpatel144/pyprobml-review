{
 "cells": [
  {
   "cell_type": "markdown",
   "metadata": {
    "id": "_ykVtDVEgue_"
   },
   "source": [
    "<a href=\"https://colab.research.google.com/github/probml/probml-notebooks/blob/main/notebooks/randomized_priors.ipynb\" target=\"_parent\"><img alt=\"Open in Colab\" src=\"https://colab.research.google.com/assets/colab-badge.svg\" ></a>"
   ]
  },
  {
   "cell_type": "markdown",
   "metadata": {
    "id": "kMqLTceqie0u"
   },
   "source": [
    "# Deep Ensembles with Randomized Prior Functions \n",
    "\n",
    "This notebook illustrates a way to improve predictive uncertainty using deep ensembles. It is based on this paper:\n",
    "\n",
    "I. Osband, J. Aslanides, and A. Cassirer, “Randomized prior functions for deep reinforcement learning,” in NIPS, Jun. 2018 [Online]. Available: https://proceedings.neurips.cc/paper/2018/file/5a7b238ba0f6502e5d6be14424b20ded-Paper.pdf. \n",
    "\n",
    "The original  Tensorflow demo is from  https://www.kaggle.com/code/gdmarmerola/introduction-to-randomized-prior-functions/notebook\n",
    "\n",
    "This JAX translation is by Peter G. Chang ([@peterchang0414](https://github.com/peterchang0414))"
   ]
  },
  {
   "cell_type": "markdown",
   "metadata": {
    "id": "ySVHbp8Ofjet"
   },
   "source": [
    "# 0. Imports"
   ]
  },
  {
   "cell_type": "code",
   "execution_count": 2,
   "metadata": {
    "colab": {
     "base_uri": "https://localhost:8080/"
    },
    "id": "_SqytCMaiMem",
    "outputId": "5f7fea93-4d52-49bb-e1ca-64e3852a2485"
   },
   "outputs": [],
   "source": [
    "from jax._src.lax import utils\n",
    "%matplotlib inline\n",
    "\n",
    "from functools import partial\n",
    "\n",
    "import matplotlib.pyplot as plt\n",
    "\n",
    "\n",
    "try:\n",
    "    import optax\n",
    "except ModuleNotFoundError:\n",
    "    %pip install -qq optax\n",
    "    import optax\n",
    "import jax\n",
    "import jax.numpy as jnp\n",
    "from jax import jit\n",
    "from jax.nn.initializers import glorot_normal\n",
    "\n",
    "try:\n",
    "    import probml_utils as pml\n",
    "    from probml_utils import latexify, savefig, is_latexify_enabled\n",
    "except ModuleNotFoundError:\n",
    "    %pip install -qq git+https://github.com/probml/probml-utils.git\n",
    "    import probml_utils as pml\n",
    "    from probml_utils import savefig, latexify, is_latexify_enabled\n",
    "\n",
    "\n",
    "try:\n",
    "    import flax\n",
    "except ModuleNotFoundError:\n",
    "    %pip install -qq flax\n",
    "    import fla\n",
    "import flax.linen as nn\n",
    "from flax.training import train_state\n",
    "\n",
    "try:\n",
    "    import seaborn as sns\n",
    "except:\n",
    "    %pip install seaborn\n",
    "    import seaborn as sns"
   ]
  },
  {
   "cell_type": "markdown",
   "metadata": {
    "id": "_LpGtX0Gg3Pd"
   },
   "source": [
    "# 1. Dataset"
   ]
  },
  {
   "cell_type": "markdown",
   "metadata": {
    "id": "3p53RQPPkARQ"
   },
   "source": [
    "We will use a 1d synthetic regression dataset from this paper\n",
    "\n",
    "C. Blundell, J. Cornebise, K. Kavukcuoglu, and D. Wierstra, “Weight Uncertainty in Neural Networks,” in ICML, May 2015 [Online]. Available: http://arxiv.org/abs/1505.05424\n",
    "\n",
    "\n",
    "$$\n",
    "\\begin{align}\n",
    "y &= x + 0.3 \\sin(2 \\pi(x + \\epsilon)) + 0.3 \\sin(4 \\pi(x + \\epsilon)) + \\epsilon \\\\\n",
    "\\epsilon &\\sim \\mathcal{N}(0, 0.02) \\\\\n",
    "x &\\sim \\mathcal{U}(0.0, 0.5)\n",
    "\\end{align}\n",
    "$$\n",
    "\n"
   ]
  },
  {
   "cell_type": "code",
   "execution_count": 3,
   "metadata": {
    "colab": {
     "base_uri": "https://localhost:8080/"
    },
    "id": "HryBPc_7g6EN",
    "outputId": "0dc4f4be-1f0b-4c89-c0d9-b85620c435d1"
   },
   "outputs": [
    {
     "name": "stderr",
     "output_type": "stream",
     "text": [
      "WARNING:absl:No GPU/TPU found, falling back to CPU. (Set TF_CPP_MIN_LOG_LEVEL=0 and rerun for more info.)\n"
     ]
    }
   ],
   "source": [
    "# Generate dataset and grid\n",
    "key, subkey = jax.random.split(jax.random.PRNGKey(0))\n",
    "X = jax.random.uniform(key, shape=(100, 1), minval=0.0, maxval=0.5)\n",
    "x_grid = jnp.linspace(-5, 5, 1000).reshape(-1, 1)\n",
    "\n",
    "# Define function\n",
    "def target_toy(key, x):\n",
    "    epsilons = jax.random.normal(key, shape=(3,)) * 0.02\n",
    "    return (\n",
    "        x + 0.3 * jnp.sin(2 * jnp.pi * (x + epsilons[0])) + 0.3 * jnp.sin(4 * jnp.pi * (x + epsilons[1])) + epsilons[2]\n",
    "    )\n",
    "\n",
    "\n",
    "# Define vectorized version of function\n",
    "target_vmap = jax.vmap(target_toy, in_axes=(0, 0), out_axes=0)\n",
    "\n",
    "# Generate target values\n",
    "keys = jax.random.split(subkey, X.shape[0])\n",
    "Y = target_vmap(keys, X)"
   ]
  },
  {
   "cell_type": "code",
   "execution_count": 4,
   "metadata": {
    "colab": {
     "base_uri": "https://localhost:8080/",
     "height": 279
    },
    "id": "XojWNZwqpNGa",
    "outputId": "7b2e6722-444b-453c-c3f7-5789ab664732"
   },
   "outputs": [
    {
     "data": {
      "image/png": "[encoded data removed]",
      "text/plain": [
       "<Figure size 432x288 with 1 Axes>"
      ]
     },
     "metadata": {
      "needs_background": "light"
     },
     "output_type": "display_data"
    }
   ],
   "source": [
    "# Plot the generated data\n",
    "plt.figure()  # figsize=[12,6], dpi=200)\n",
    "plt.plot(X, Y, \"kx\", label=\"Toy data\", alpha=0.8)\n",
    "# plt.title('Simple 1D example with toy data by Blundell et. al (2015)')\n",
    "plt.xlabel(\"$x$\")\n",
    "plt.ylabel(\"$y$\")\n",
    "plt.xlim(-0.5, 1.0)\n",
    "plt.ylim(-0.8, 1.6)\n",
    "plt.legend()\n",
    "plt.show()"
   ]
  },
  {
   "cell_type": "markdown",
   "metadata": {
    "id": "7Gu4ROEItK5N"
   },
   "source": [
    "#2. Randomized Prior Functions\n",
    "\n",
    "The core idea is to represent each ensemble member $g_i$ by\n",
    "$$g_i(x; \\theta_i) = t_i(x; \\theta_i) + \\beta p_i(x)$$,\n",
    "where $t_i$ is a trainable network, and $p_i$ is a fixed, but random, prior network."
   ]
  },
  {
   "cell_type": "code",
   "execution_count": 5,
   "metadata": {
    "id": "vHRoeeAwwNWV"
   },
   "outputs": [],
   "source": [
    "# Prior and trainable networks have the same architecture\n",
    "class GenericNet(nn.Module):\n",
    "    @nn.compact\n",
    "    def __call__(self, x):\n",
    "        dense = partial(nn.Dense, kernel_init=glorot_normal())\n",
    "        return nn.Sequential([dense(16), nn.elu, dense(16), nn.elu, dense(1)])(x)\n",
    "\n",
    "\n",
    "# Model that combines prior and trainable nets\n",
    "class Model(nn.Module):\n",
    "    prior: GenericNet = GenericNet()\n",
    "    trainable: GenericNet = GenericNet()\n",
    "    beta: float = 3\n",
    "\n",
    "    @nn.compact\n",
    "    def __call__(self, x):\n",
    "        x1 = self.prior(x)\n",
    "        x2 = self.trainable(x)\n",
    "        return self.beta * x1 + x2"
   ]
  },
  {
   "cell_type": "code",
   "execution_count": 6,
   "metadata": {
    "id": "yIHTrOXjbHg4"
   },
   "outputs": [],
   "source": [
    "def create_train_state(key, X, lr):\n",
    "    key, _ = jax.random.split(key)\n",
    "    model = Model()\n",
    "    params = model.init(key, X)[\"params\"]\n",
    "    p_params, t_params = params[\"prior\"], params[\"trainable\"]\n",
    "    opt = optax.adam(learning_rate=lr)\n",
    "    return p_params, train_state.TrainState.create(apply_fn=model.apply, params=t_params, tx=opt)\n",
    "\n",
    "\n",
    "@jax.jit\n",
    "def train_epoch(beta, prior, train_state, X, Y):\n",
    "    def loss_fn(params):\n",
    "        model = Model(beta=beta)\n",
    "        Yhat = model.apply({\"params\": {\"prior\": prior, \"trainable\": params}}, X)\n",
    "        loss = jnp.mean((Yhat - Y) ** 2)\n",
    "        return loss\n",
    "\n",
    "    Yhats, grads = jax.value_and_grad(loss_fn)(train_state.params)\n",
    "    train_state = train_state.apply_gradients(grads=grads)\n",
    "    return train_state\n",
    "\n",
    "\n",
    "def train(key, beta, lr, epochs, X, Y):\n",
    "    p_params, train_state = create_train_state(key, X, lr)\n",
    "    for epoch in range(1, epochs + 1):\n",
    "        train_state = train_epoch(beta, p_params, train_state, X, Y)\n",
    "    return {\"prior\": p_params, \"trainable\": train_state.params}\n",
    "\n",
    "\n",
    "# Prediction function to be resued in Part 3\n",
    "@jax.jit\n",
    "def get_predictions(beta, params, X):\n",
    "    p_param, t_param = params[\"prior\"], params[\"trainable\"]\n",
    "    generic = GenericNet()\n",
    "    model = Model(beta=beta)\n",
    "    Y_prior = generic.apply({\"params\": p_param}, X)\n",
    "    Y_trainable = generic.apply({\"params\": t_param}, X)\n",
    "    Y_model = model.apply({\"params\": params}, X)\n",
    "    return Y_prior, Y_trainable, Y_model"
   ]
  },
  {
   "cell_type": "code",
   "execution_count": 7,
   "metadata": {
    "id": "JY1zvM-g1Hrn"
   },
   "outputs": [],
   "source": [
    "beta = 3\n",
    "epochs = 2000\n",
    "learning_rate = 0.03\n",
    "\n",
    "# Train the model and get predictions for x_grid\n",
    "params = train(jax.random.PRNGKey(0), beta, learning_rate, epochs, X, Y)\n",
    "Y_prior, Y_trainable, Y_model = get_predictions(beta, params, x_grid)"
   ]
  },
  {
   "cell_type": "code",
   "execution_count": 8,
   "metadata": {
    "colab": {
     "base_uri": "https://localhost:8080/",
     "height": 279
    },
    "id": "43BoR8JvRIAt",
    "outputId": "83b29b4d-8d01-4cd2-ac16-6f3822453a1d"
   },
   "outputs": [
    {
     "data": {
      "image/png": "[encoded data removed]",
      "text/plain": [
       "<Figure size 432x288 with 1 Axes>"
      ]
     },
     "metadata": {
      "needs_background": "light"
     },
     "output_type": "display_data"
    }
   ],
   "source": [
    "# Plot the results\n",
    "plt.figure()  # figsize=[12,6], dpi=200)\n",
    "plt.plot(X, Y, \"kx\", label=\"Toy data\", alpha=0.8)\n",
    "plt.plot(x_grid, 3 * Y_prior, label=\"prior net (p)\")\n",
    "plt.plot(x_grid, Y_trainable, label=\"trainable net (t)\")\n",
    "plt.plot(x_grid, Y_model, label=\"resultant (g)\")\n",
    "# plt.title('Predictions of the prior network: random function')\n",
    "plt.xlabel(\"$x$\")\n",
    "plt.ylabel(\"$y$\")\n",
    "plt.xlim(-0.5, 1.0)\n",
    "plt.ylim(-0.6, 1.4)\n",
    "plt.legend()\n",
    "\n",
    "#plt.savefig(\"randomized_priors_single_model.pdf\")\n",
    "#plt.savefig(\"randomized_priors_single_model.png\")\n",
    "\n",
    "plt.show()"
   ]
  },
  {
   "cell_type": "markdown",
   "metadata": {
    "id": "FglS1lOOZpca"
   },
   "source": [
    "# 3. Bootstrapped Ensembles"
   ]
  },
  {
   "cell_type": "markdown",
   "metadata": {
    "id": "bU95CTcyM8w8"
   },
   "source": [
    "To implement bootstrapping using JAX, we generate a random map from seed values to dataset index values: $\\{\\text{seed}, \\text{seed}+1 \\dots, \\text{seed}+99\\} \\to \\{ 0, 1, \\dots, 99 \\}$ by utilizing ``` jax.random.randint ```  using a randomly-generated seed. We assume the random key space is large enough that we need not be concerned with generating overlapping seed ranges."
   ]
  },
  {
   "cell_type": "code",
   "execution_count": 9,
   "metadata": {
    "id": "FFXwREGALpAL"
   },
   "outputs": [],
   "source": [
    "# Generate bootstrap of given size\n",
    "def generate_bootstrap(key, size):\n",
    "    seed, _ = jax.random.split(key)\n",
    "    return [jax.random.randint(seed + i, (), 0, size) for i in range(size)]\n",
    "\n",
    "\n",
    "# An ensemble model with randomized prior nets\n",
    "def build_ensemble(n_estimators, beta, lr, epochs, X, Y, bootstrap):\n",
    "    train_keys = jax.random.split(jax.random.PRNGKey(0), n_estimators)\n",
    "    # Stack the (bootstrapped) training sets for the ensemble models\n",
    "    if bootstrap:\n",
    "        bootstraps = jnp.stack(\n",
    "            jnp.array([generate_bootstrap(jax.random.PRNGKey(42 * i), X.shape[0]) for i in range(1, n_estimators + 1)])\n",
    "        )\n",
    "        X_b = jnp.expand_dims(jax.vmap(jnp.take, in_axes=(None, 0))(X, bootstraps), 2)\n",
    "        Y_b = jnp.expand_dims(jax.vmap(jnp.take, in_axes=(None, 0))(Y, bootstraps), 2)\n",
    "    else:\n",
    "        X_b = jnp.tile(X, (n_estimators, 1, 1))\n",
    "        Y_b = jnp.tile(Y, (n_estimators, 1, 1))\n",
    "    # Train each ensemble model on its corresponding training set\n",
    "    ensemble_train = jax.vmap(train, in_axes=(0, None, None, None, 0, 0), out_axes={\"prior\": 0, \"trainable\": 0})\n",
    "    return ensemble_train(train_keys, beta, lr, epochs, X_b, Y_b)\n",
    "\n",
    "\n",
    "# Array of predictions for each model in trained ensemble\n",
    "def get_ensemble_predictions(n_estimators, beta, lr, epochs, X, Y, X_new, bootstrap=True):\n",
    "    ensemble = build_ensemble(n_estimators, beta, lr, epochs, X, Y, bootstrap)\n",
    "    result = jax.vmap(get_predictions, in_axes=(None, 0, None))(beta, ensemble, X_new)\n",
    "    return result"
   ]
  },
  {
   "cell_type": "code",
   "execution_count": 10,
   "metadata": {
    "id": "f9Com5vAQvqs"
   },
   "outputs": [],
   "source": [
    "# Compute prediction values for each net in ensemble\n",
    "n_estimators = 9\n",
    "beta = 3\n",
    "learning_rate = 0.03\n",
    "epochs = 3000\n",
    "p_grid, t_grid, y_grid = get_ensemble_predictions(n_estimators, beta, learning_rate, epochs, X, Y, x_grid)"
   ]
  },
  {
   "cell_type": "code",
   "execution_count": 11,
   "metadata": {},
   "outputs": [],
   "source": [
    "latexify(width_scale_factor=1.8, fig_height=3)"
   ]
  },
  {
   "cell_type": "code",
   "execution_count": 27,
   "metadata": {
    "colab": {
     "base_uri": "https://localhost:8080/",
     "height": 925
    },
    "id": "XEDEQLJYMdgm",
    "outputId": "d4fd7897-2281-46ec-cedb-d803c212d00b"
   },
   "outputs": [
    {
     "name": "stdout",
     "output_type": "stream",
     "text": [
      "saving image to fig/randomized_priors_multi_model_latexified.pdf\n",
      "Figure size: [3.33333333 3.        ]\n"
     ]
    },
    {
     "data": {
      "text/plain": [
       "<function matplotlib.pyplot.show(close=None, block=None)>"
      ]
     },
     "execution_count": 27,
     "metadata": {},
     "output_type": "execute_result"
    },
    {
     "data": {
      "image/png": "[encoded data removed]",
      "text/plain": [
       "<Figure size 240x216 with 8 Axes>"
      ]
     },
     "metadata": {
      "needs_background": "light"
     },
     "output_type": "display_data"
    }
   ],
   "source": [
    "# Plot the results\n",
    "#plt.figure(figsize=[12, 12], dpi=200)\n",
    "fig, axs = plt.subplots(nrows= 4, ncols=2,sharex= True, sharey =True)\n",
    "#axs = axs.flatten()\n",
    "\n",
    "\n",
    "for i in range(8):\n",
    "    if(i%2==0):\n",
    "        k=i//2\n",
    "        j=0\n",
    "    else:\n",
    "        k=i//2\n",
    "        j=1\n",
    "    # pl.subplot(4, 2,i+1)\n",
    "    axs[k,j].text(-0.25, 1, f\"model \"+ r\"$\\#$\"+f\"{i+1}\")\n",
    "    if(k==3):\n",
    "#         at = jnp.array([-0.5,0,0.5,1])\n",
    "#         labels= [f\"{label:.0f}\" for label in at]\n",
    "#         axs[k,j].set_xlim(0.5,1)\n",
    "#         axs[k,j].set_xticks(at)\n",
    "        axs[k,j].set_xticklabels([-0.5, 0, 0.5, 1])\n",
    "        axs[k,j].set_xlim([-0.5,1])\n",
    "    else:\n",
    "        #axs[k,j].set_xlim(0.5,1)\n",
    "        axs[k,j].set_xticks([-0.5,0,0.5,1])\n",
    "        axs[k,j].set_xlim([-0.5,1])\n",
    "    axs[k,j].set_ylim(-0.6, 1.4)\n",
    "    axs[k,j].plot(X, Y, \"kx\", label=\"Toy data\", alpha=0.8,markersize=1)\n",
    "    axs[k,j].plot(x_grid, p_grid[i, :, 0], label=\"prior net (p)\")\n",
    "    axs[k,j].plot(x_grid, t_grid[i, :, 0], label=\"trainable net (t)\")\n",
    "    axs[k,j].plot(x_grid, y_grid[i, :, 0], label=\"resultant (g)\")\n",
    "    #ax.set_title(\"Ensemble: Model \\#{}\".format(i + 1))\n",
    "    # plt.xlabel('$x$'); plt.ylabel('$y$')\n",
    "\n",
    "    # plt.axis('off')\n",
    "    #plt.xticks([])\n",
    "    #plt.yticks([])\n",
    "    #ax.legend(frameon = False)\n",
    "    sns.despine()\n",
    "if is_latexify_enabled():\n",
    "    plt.subplots_adjust(wspace = 3)\n",
    "#plt.tight_layout()\n",
    "pml.savefig(\"randomized_priors_multi_model.pdf\")\n",
    "#plt.savefig(\"randomized_priors_multi_model.png\")\n",
    "plt.show"
   ]
  },
  {
   "cell_type": "markdown",
   "metadata": {
    "id": "YTij_4LrMRrc"
   },
   "source": [
    "# 4. Effects of Changing Beta"
   ]
  },
  {
   "cell_type": "markdown",
   "metadata": {
    "id": "k0wp5romaI1j"
   },
   "source": [
    "Let us go beyond the original Kaggle notebook and inspect that relationship between the weight of the prior, $\\beta$ and the variance among the predictions of the ensembled models.\n",
    "\n",
    "Intuitively, since the random priors are not trained, the variance should increase with $\\beta$. Let us verify this visually."
   ]
  },
  {
   "cell_type": "code",
   "execution_count": 13,
   "metadata": {
    "id": "ZBmbHO1bMFx6"
   },
   "outputs": [],
   "source": [
    "# Choose a diverse selection of beta values\n",
    "betas = jnp.array([0.001, 5, 50, 100])\n",
    "\n",
    "n_estimates, lr, epochs = 9, 0.03, 3000\n",
    "\n",
    "# Get ensemble predictions for the corresponding beta values\n",
    "pred_beta_batches = jax.vmap(\n",
    "    get_ensemble_predictions,\n",
    "    in_axes=(\n",
    "        None,\n",
    "        0,\n",
    "        None,\n",
    "        None,\n",
    "        None,\n",
    "        None,\n",
    "        None,\n",
    "    ),\n",
    ")\n",
    "\n",
    "preds = pred_beta_batches(n_estimates, betas, lr, epochs, X, Y, x_grid)\n",
    "means = jax.vmap(lambda x: x.mean(axis=0)[:, 0])(preds[2])\n",
    "stds = jax.vmap(lambda x: x.std(axis=0)[:, 0])(preds[2])"
   ]
  },
  {
   "cell_type": "code",
   "execution_count": 24,
   "metadata": {
    "colab": {
     "base_uri": "https://localhost:8080/",
     "height": 925
    },
    "id": "atirptvHME2k",
    "outputId": "d922b024-ed78-4ef6-d1eb-7d53fc1df80b"
   },
   "outputs": [
    {
     "name": "stderr",
     "output_type": "stream",
     "text": [
      "/tmp/ipykernel_3194/3579935054.py:34: UserWarning: FixedFormatter should only be used together with FixedLocator\n",
      "  axs[i,1].set_xticklabels([-0.5, 0, 0.5, 1])\n"
     ]
    },
    {
     "name": "stdout",
     "output_type": "stream",
     "text": [
      "saving image to fig/randomized_priors_changing_beta_latexified.pdf\n",
      "Figure size: [3.33333333 3.        ]\n"
     ]
    },
    {
     "data": {
      "image/png": "[encoded data removed]",
      "text/plain": [
       "<Figure size 240x216 with 8 Axes>"
      ]
     },
     "metadata": {
      "needs_background": "light"
     },
     "output_type": "display_data"
    }
   ],
   "source": [
    "# Plot mean and std for each beta\n",
    "#fig = plt.figure(figsize=[8, len(betas) * 3], dpi=150)\n",
    "fig, axs = plt.subplots(nrows = 4, ncols = 2, sharex = True, sharey =True)\n",
    "for i, beta in enumerate(betas):\n",
    "    # Plot predictive mean and std (left graph)\n",
    "    #plt.subplot(len(betas), 2, 2 * i + 1)\n",
    "    axs[i,0].plot(X, Y, \"kx\", label=\"Toy data\", markersize =1)\n",
    "    # plt.title(f'Mean and Deviation for beta={beta}', fontsize=12)\n",
    "    if(beta<1):\n",
    "        axs[i,0].text(-0.2,1.2, r\"$\\beta$\" + f\"={beta:.3f}\")\n",
    "        #axs[i,0].set_title(f\"beta={beta:.3f}\")\n",
    "    else:\n",
    "        axs[i,0].text(-0.2, 1.2, r\"$\\beta$=\"+f\"{int(beta)}\")\n",
    "        #axs[i,0].set_title(f\"beta={int(beta)}\")\n",
    "    axs[i,0].set_xlim(-0.5, 1)\n",
    "    axs[i,0].set_ylim(-2, 2)\n",
    "    # plt.legend()\n",
    "    axs[i,0].plot(x_grid, means[i], \"r--\", linewidth=1)\n",
    "    axs[i,0].fill_between(x_grid.reshape(1, -1)[0], means[i] - stds[i], means[i] + stds[i], alpha=0.5, color=\"red\")\n",
    "    axs[i,0].fill_between(x_grid.reshape(1, -1)[0], means[i] + 2 * stds[i], means[i] - 2 * stds[i], alpha=0.2, color=\"red\")\n",
    "\n",
    "    # Plot means of each net in ensemble (right graph)\n",
    "    #plt.subplot(len(betas), 2, 2 * i + 2)\n",
    "    axs[i,1].plot(X, Y, \"kx\", label=\"Toy data\", markersize =1)\n",
    "    # plt.title(f'Samples for beta={beta}', fontsize=12)\n",
    "    if(beta<1):\n",
    "        axs[i,1].text(-0.2, 1.2, r\"$\\beta$\" + f\"={beta:.3f}\")\n",
    "        #axs[i,1].set_title(f\"beta={beta:.3f}\")\n",
    "    else:\n",
    "        axs[i,1].text(-0.2, 1.2, r\"$\\beta$=\"+f\"{int(beta)}\")\n",
    "        #axs[i,1].set_title(f\"beta={int(beta)}\")\n",
    "        \n",
    "    if is_latexify_enabled():\n",
    "        axs[i,1].set_xticklabels([-0.5, 0, 0.5, 1])    \n",
    "    axs[i,1].set_xlim(-0.5, 1)\n",
    "    axs[i,1].set_ylim(-1.5, 2)\n",
    "    sns.despine()\n",
    "    # plt.legend()\n",
    "    for j in range(n_estimators):\n",
    "        axs[i,1].plot(x_grid, preds[2][i][j, :, 0], linestyle=\"--\", linewidth=1)\n",
    "\n",
    "\n",
    "plt.tight_layout()\n",
    "if is_latexify_enabled():\n",
    "    plt.subplots_adjust(wspace = 5.5)\n",
    "pml.savefig(\"randomized_priors_changing_beta.pdf\")\n",
    "#plt.savefig(\"randomized_priors_changing_beta.png\")\n",
    "plt.show()"
   ]
  },
  {
   "cell_type": "markdown",
   "metadata": {
    "id": "0z67_Y0Cb48B"
   },
   "source": [
    "# 5. Effects of Prior and Bootstrapping"
   ]
  },
  {
   "cell_type": "markdown",
   "metadata": {
    "id": "MsfdTSAvcAVG"
   },
   "source": [
    "Let us construct and compare the following four models:\n",
    "\n",
    "\n",
    "1. Ensemble of nets **with** prior, **with** bootstrap (original model)\n",
    "2. Ensemble of nets **with** prior, **without** bootstrap\n",
    "3. Ensemble of nets **without** prior, **with** bootstrap\n",
    "4. Ensemble of nets **without** prior, **without** bootstrap\n",
    "\n",
    "Note that our previous constructions allow easy extensions into the three other model types. For nets without prior, we simply set ```beta=0``` (or, alternatively, use```GenericNet```) and for nets without bootstrap, we use the method ```get_ensemble_predictions(..., bootstrap=False)```."
   ]
  },
  {
   "cell_type": "code",
   "execution_count": null,
   "metadata": {
    "id": "S2ssvwytd4rv"
   },
   "outputs": [],
   "source": [
    "n, beta, lr, epochs = 9, 50, 0.03, 3000\n",
    "\n",
    "# With prior, with bootstrap (original)\n",
    "*_, y_grid_1 = get_ensemble_predictions(n, beta, lr, epochs, X, Y, x_grid)\n",
    "means_1, stds_1 = y_grid_1.mean(axis=0)[:, 0], y_grid_1.std(axis=0)[:, 0]\n",
    "# With prior, without bootstrap\n",
    "*_, y_grid_2 = get_ensemble_predictions(n, beta, lr, epochs, X, Y, x_grid, False)\n",
    "means_2, stds_2 = y_grid_2.mean(axis=0)[:, 0], y_grid_2.std(axis=0)[:, 0]\n",
    "# Without prior, with bootstrap\n",
    "*_, y_grid_3 = get_ensemble_predictions(n, 0, lr, epochs, X, Y, x_grid)\n",
    "means_3, stds_3 = y_grid_3.mean(axis=0)[:, 0], y_grid_3.std(axis=0)[:, 0]\n",
    "# Without prior, without bootstrap\n",
    "*_, y_grid_4 = get_ensemble_predictions(n, 0, lr, epochs, X, Y, x_grid, False)\n",
    "means_4, stds_4 = y_grid_4.mean(axis=0)[:, 0], y_grid_4.std(axis=0)[:, 0]"
   ]
  },
  {
   "cell_type": "code",
   "execution_count": null,
   "metadata": {
    "colab": {
     "base_uri": "https://localhost:8080/",
     "height": 1000
    },
    "id": "wmCsFE6TlRjt",
    "outputId": "1f3db2b4-5676-4e78-af02-2c761369abd7"
   },
   "outputs": [],
   "source": [
    "# Plot the four types of models\n",
    "fig = plt.figure(figsize=[12, 9], dpi=150)\n",
    "# fig.suptitle('Bootstrapping and priors: impact of model components on result',\n",
    "#             verticalalignment='center')\n",
    "\n",
    "# With prior, with bootstrap\n",
    "plt.subplot(2, 2, 1)\n",
    "plt.plot(X, Y, \"kx\", label=\"Toy data\")\n",
    "plt.title(\"Full model with priors and bootstrap\", fontsize=12)\n",
    "plt.xlim(-0.5, 1.0)\n",
    "plt.ylim(-1.5, 1.5)\n",
    "plt.legend()\n",
    "plt.plot(x_grid, means_1, \"r--\", linewidth=1.5)\n",
    "plt.fill_between(x_grid.reshape(1, -1)[0], means_1 - stds_1, means_1 + stds_1, alpha=0.5, color=\"red\")\n",
    "plt.fill_between(x_grid.reshape(1, -1)[0], means_1 + 2 * stds_1, means_1 - 2 * stds_1, alpha=0.2, color=\"red\")\n",
    "\n",
    "# With prior, without bootstrap\n",
    "plt.subplot(2, 2, 2)\n",
    "plt.plot(X, Y, \"kx\", label=\"Toy data\")\n",
    "plt.title(\"No bootrapping, but use of priors\", fontsize=12)\n",
    "plt.xlim(-0.5, 1.0)\n",
    "plt.ylim(-1.5, 1.5)\n",
    "plt.legend()\n",
    "plt.plot(x_grid, means_2, \"r--\", linewidth=1.5)\n",
    "plt.fill_between(x_grid.reshape(1, -1)[0], means_2 - stds_2, means_2 + stds_2, alpha=0.5, color=\"red\")\n",
    "plt.fill_between(x_grid.reshape(1, -1)[0], means_2 + 2 * stds_2, means_2 - 2 * stds_2, alpha=0.2, color=\"red\")\n",
    "\n",
    "# Without prior, with bootstrap\n",
    "plt.subplot(2, 2, 3)\n",
    "plt.plot(X, Y, \"kx\", label=\"Toy data\")\n",
    "plt.title(\"No priors, but use of bootstrapping\", fontsize=12)\n",
    "plt.xlim(-0.5, 1.0)\n",
    "plt.ylim(-1.5, 1.5)\n",
    "plt.legend()\n",
    "plt.plot(x_grid, means_3, \"r--\", linewidth=1.5)\n",
    "plt.fill_between(x_grid.reshape(1, -1)[0], means_3 - stds_3, means_3 + stds_3, alpha=0.5, color=\"red\")\n",
    "plt.fill_between(x_grid.reshape(1, -1)[0], means_3 + 2 * stds_3, means_3 - 2 * stds_3, alpha=0.2, color=\"red\")\n",
    "\n",
    "# Without prior, without bootstrap\n",
    "plt.subplot(2, 2, 4)\n",
    "plt.plot(X, Y, \"kx\", label=\"Toy data\")\n",
    "plt.title(\"Both bootstrapping and priors turned off\", fontsize=12)\n",
    "plt.xlim(-0.5, 1.0)\n",
    "plt.ylim(-1.5, 1.5)\n",
    "plt.legend()\n",
    "plt.plot(x_grid, means_4, \"r--\", linewidth=1.5)\n",
    "plt.fill_between(x_grid.reshape(1, -1)[0], means_4 - stds_4, means_4 + stds_4, alpha=0.5, color=\"red\")\n",
    "plt.fill_between(x_grid.reshape(1, -1)[0], means_4 + 2 * stds_4, means_4 - 2 * stds_4, alpha=0.2, color=\"red\")\n",
    "\n",
    "plt.tight_layout()\n",
    "#plt.savefig(\"randomized_priors_components.pdf\")\n",
    "#plt.savefig(\"randomized_priors_components.png\")\n",
    "plt.show();"
   ]
  },
  {
   "cell_type": "code",
   "execution_count": null,
   "metadata": {
    "colab": {
     "base_uri": "https://localhost:8080/"
    },
    "id": "H0OsEuKAQz_X",
    "outputId": "120b2aaa-843e-45ea-8e0d-42ef62c47b41"
   },
   "outputs": [],
   "source": []
  },
  {
   "cell_type": "code",
   "execution_count": null,
   "metadata": {
    "id": "O7krqnFxQ83X"
   },
   "outputs": [],
   "source": []
  },
  {
   "cell_type": "code",
   "execution_count": null,
   "metadata": {},
   "outputs": [],
   "source": []
  }
 ],
 "metadata": {
  "colab": {
   "name": "randomized_priors.ipynb",
   "provenance": []
  },
  "kernelspec": {
   "display_name": "Python 3 (ipykernel)",
   "language": "python",
   "name": "python3"
  },
  "language_info": {
   "codemirror_mode": {
    "name": "ipython",
    "version": 3
   },
   "file_extension": ".py",
   "mimetype": "text/x-python",
   "name": "python",
   "nbconvert_exporter": "python",
   "pygments_lexer": "ipython3",
   "version": "3.8.10"
  }
 },
 "nbformat": 4,
 "nbformat_minor": 1
}
